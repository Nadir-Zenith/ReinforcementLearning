{
  "nbformat": 4,
  "nbformat_minor": 0,
  "metadata": {
    "colab": {
      "name": "V4PracticalAssignmentNAAMII 2021 - RL Project.ipynb",
      "provenance": [],
      "collapsed_sections": [
        "4gy63xclSYLQ",
        "lt1fmHpcKVMd",
        "58OXLcEOuRxw",
        "HvwlEaxLuWg6",
        "ICY4mlbVPgW8",
        "k4MbWWQTJoCk",
        "NzBuIebpSlfu",
        "Awy4bnFfSGf_",
        "-S-rFGcQmSlE",
        "FtY8FhliLsGm",
        "RapkYvTXL7Cd",
        "ZWOAFJjumSlL",
        "r5UoXTZPNdFE",
        "A00W6yY3NkHG",
        "vUpOhTaImSlR",
        "xVm9QPNVwKXN",
        "KOObbeu5MMlR"
      ],
      "include_colab_link": true
    },
    "kernelspec": {
      "name": "python3",
      "display_name": "Python 3"
    },
    "language_info": {
      "name": "python"
    },
    "accelerator": "GPU"
  },
  "cells": [
    {
      "cell_type": "markdown",
      "metadata": {
        "id": "view-in-github",
        "colab_type": "text"
      },
      "source": [
        "<a href=\"https://colab.research.google.com/github/Nadir-Zenith/ReinforcementLearning/blob/main/GridworldPracticalAssignmentNAAMII_2021_RL_Project.ipynb\" target=\"_parent\"><img src=\"https://colab.research.google.com/assets/colab-badge.svg\" alt=\"Open In Colab\"/></a>"
      ]
    },
    {
      "cell_type": "markdown",
      "metadata": {
        "id": "UBvZlX0bK2qc"
      },
      "source": [
        "# 2021 NAAMII AI Winter School RL Practical\n",
        "Authors: John D. Martin (jmartin8@ualberta.ca), Shruti Mishra, Jordan Hoffmann"
      ]
    },
    {
      "cell_type": "markdown",
      "source": [
        "This assignment covers a number of important reinforcement learning concepts, algorithms, and phenomena. Students will observe the general interaction between a learning system and its environment. In addition, they will implement the classic algorithms SARSA and Q-Learning, for policy evaluation and control. Using experience in a small gridworld domain, students will observe how the presence of stochasticity influences step size sensitivity. The focus shifts in the latter part of the assignment to issues that arise under function approximation with a neural network. Using experience in a domain with continuous states and actions, students will observe how performance of the PPO algorithm changes with different architecture sizes.      \n",
        " \n",
        " "
      ],
      "metadata": {
        "id": "y7KL4v193OYt"
      }
    },
    {
      "cell_type": "markdown",
      "metadata": {
        "id": "YA7LDeADOkns"
      },
      "source": [
        "# Environment defintion"
      ]
    },
    {
      "cell_type": "code",
      "metadata": {
        "id": "d_XinzPNlSYw"
      },
      "source": [
        "import numpy as np\n",
        "import jax.numpy as jnp\n",
        "import jax\n",
        "import functools\n",
        "import matplotlib\n",
        "import matplotlib.cm as cm\n",
        "import matplotlib.pyplot as plt"
      ],
      "execution_count": 1,
      "outputs": []
    },
    {
      "cell_type": "code",
      "metadata": {
        "id": "Q7e4fUtYYdY_"
      },
      "source": [
        "#title 5x5 GridWorld\n",
        "class GridWorld:  \n",
        "  def __init__(self, stochastic=False, seed=0):\n",
        "    self.stochastic = stochastic\n",
        "    self.seed = seed\n",
        "\n",
        "    self.num_rows = 10\n",
        "    self.num_cols = 10\n",
        "    self.num_actions = 4\n",
        "    self.num_states = self.num_cols * self.num_rows\n",
        "\n",
        "    self._rand = np.random.RandomState(self.seed)\n",
        "\n",
        "    self._init_topology()  \n",
        "    self.counts = np.zeros(self.num_states)\n",
        "\n",
        "    #self.forbidden_states = np.array([7,8,12,17,19,40])\n",
        "    self.forbidden = False\n",
        "  \n",
        "\n",
        "  def adjacency_forbid(self, grid, num_states,num_cols):\n",
        "    adj_matrix = np.zeros((num_states, 4), dtype= int)\n",
        "    for i in range(num_states):\n",
        "        neighbors = [0,0,0,0]\n",
        "        x,y = self.get_xy(i)\n",
        "        #print('state',i, x,y)\n",
        "        # west  \n",
        "        if x == 0:\n",
        "            neighbors[0] = grid[x,y]\n",
        "        else:\n",
        "            neighbors[0] = grid[x,y] if self.forbidden_check(grid[x-1,y]) else grid[x-1,y]\n",
        "            \n",
        "        # north\n",
        "        if y == num_cols-1:\n",
        "            neighbors[1] = grid[x,y]\n",
        "        else:\n",
        "            neighbors[1]  = grid[x,y] if self.forbidden_check(grid[x,y+1]) else grid[x,y+1]\n",
        "\n",
        "        # east\n",
        "        if x == num_cols-1:\n",
        "            neighbors[2] = grid[x,y]\n",
        "        else:\n",
        "            neighbors[2] = grid[x,y] if self.forbidden_check(grid[x+1,y]) else grid[x+1,y]\n",
        "                  \n",
        "        # south\n",
        "        if y == 0:\n",
        "            neighbors[3] = grid[x,y]\n",
        "        else:\n",
        "            neighbors[3] = grid[x,y]  if self.forbidden_check(grid[x,y-1]) else grid[x,y-1]\n",
        "\n",
        "        adj_matrix[grid[x,y]] = neighbors\n",
        "    return np.array(adj_matrix)\n",
        "\n",
        "  def forbidden_check(self, value):\n",
        "    return value in self.get_forbidden_states()\n",
        "\n",
        "\n",
        "  def _init_topology(self, initial_grid=None):    \n",
        "    # Assign the adjacency: [W, N, E, S]\n",
        "    # Forbidden states [7,8,12,17,19]\n",
        "    \n",
        "    self.adjacency_list = self.adjacency_forbid(np.arange(self.num_states).reshape(self.num_rows, self.num_cols), self.num_states , self.num_cols)\n",
        "    \n",
        "  def _get_obs(self):\n",
        "    return jax.nn.one_hot(self.state, self.num_states)\n",
        "\n",
        "  def _get_reward(self):\n",
        "    if self.state == self.bonus_idx:\n",
        "      return 1.\n",
        "    return 0.\n",
        "  \n",
        "  def _get_done(self):\n",
        "    if self.state == self.bonus_idx:\n",
        "      return True\n",
        "    return False\n",
        "\n",
        "  def reset(self):\n",
        "    self.state = 0\n",
        "    self.bonus_idx = self.num_states - 1\n",
        "    self.counts[self.state] += 1\n",
        "    return self._get_obs()\n",
        "\n",
        "  def step(self, action):\n",
        "    if self.stochastic:\n",
        "      if rs.rand() < 0.1:\n",
        "        action = rs.choice(self.num_actions)\n",
        "    self.state = self.adjacency_list[self.state, action]\n",
        "    self.counts[self.state] += 1\n",
        "    return self._get_obs(), self._get_reward(), self._get_done()\n",
        "\n",
        "  def get_xy(self, state):\n",
        "    state = state % (self.num_cols * self.num_rows)\n",
        "    x = state // self.num_cols\n",
        "    y = state % self.num_rows\n",
        "    return x, y\n",
        "  \n",
        "  def get_forbidden_states(self):\n",
        "    return np.array([12,22,32,31,30,38,37,36,46,56,78,88,87,86,73,83,84])\n",
        "\n",
        "  def get_state_number(self, x, y):\n",
        "    return x * self.num_cols + y\n",
        "      \n",
        "  def plot(self):\n",
        "    fig, ax = plt.subplots(figsize=(10,10))\n",
        "    grid = np.reshape(self.counts, (self.num_rows, self.num_cols))\n",
        "    for i in range(self.num_rows):\n",
        "      for j in range(self.num_cols):\n",
        "        #  ax.text(i+.5, j+.5, str(grid[i,j]),va='center', ha='center')\n",
        "        if self.get_state_number(i,j) not in self.get_forbidden_states():\n",
        "          ax.text(i+.5, j+.5, str(self.get_state_number(i,j)),va='center', ha='center')\n",
        "        else:\n",
        "          ax.text(i+.5, j+.5, \"*#*\", va='center', ha='center')\n",
        "    # ax.imshow(np.flip(grid.transpose(),0),\n",
        "    #           extent=[0, self.num_rows, 0, self.num_cols])\n",
        "    state_numbers = np.reshape(np.arange(self.num_states), (self.num_rows, self.num_cols))\n",
        "    ax.imshow(state_numbers,\n",
        "              extent=[0, self.num_rows, 0, self.num_cols])\n",
        "    i, j = self.get_xy(self.state)\n",
        "    #ax.text(i+.5, j+.5, 'x', )\n",
        "\n",
        "    i, j= self.get_xy(self.bonus_idx)\n",
        "    #ax.text(i+.5, j+.5, '+1', va='center', ha='center')\n",
        "\n",
        "    ax.grid(which='major', linestyle='--')\n"
      ],
      "execution_count": 2,
      "outputs": []
    },
    {
      "cell_type": "code",
      "metadata": {
        "colab": {
          "base_uri": "https://localhost:8080/",
          "height": 633
        },
        "id": "fJfY5rbVxvom",
        "outputId": "e206b80c-6ea6-4386-fa2c-3d32441bd67b"
      },
      "source": [
        "e = GridWorld()\n",
        "e.reset()\n",
        "e.plot()"
      ],
      "execution_count": 3,
      "outputs": [
        {
          "output_type": "stream",
          "name": "stderr",
          "text": [
            "WARNING:absl:No GPU/TPU found, falling back to CPU. (Set TF_CPP_MIN_LOG_LEVEL=0 and rerun for more info.)\n"
          ]
        },
        {
          "output_type": "display_data",
          "data": {
            "image/png": "[encoded data removed]",
            "text/plain": [
              "<Figure size 720x720 with 1 Axes>"
            ]
          },
          "metadata": {
            "needs_background": "light"
          }
        }
      ]
    },
    {
      "cell_type": "code",
      "metadata": {
        "id": "AcDlDYnZVtSk"
      },
      "source": [
        "def compute_returns(rewards, discount, bin_size=1):\n",
        "    assert len(rewards) >= bin_size\n",
        "    discounts = [discount**t for t in range(bin_size)]    \n",
        "    return np.array([np.dot(rewards[t+1:t+1+bin_size], discounts)\n",
        "                     for t in range(len(rewards)-bin_size)])\n",
        "\n",
        "\n",
        "def bin_vector(x, num_bins):\n",
        "  j = int(len(x) / num_bins)\n",
        "  return np.array([np.sum(x[i * j:(i + 1) * j]) for i in range(num_bins)])"
      ],
      "execution_count": 4,
      "outputs": []
    },
    {
      "cell_type": "markdown",
      "metadata": {
        "id": "9SM8lZ7KVLhV"
      },
      "source": [
        "# Part 1. Decision policies\n",
        "\n",
        "In reinforcement learning a policy determines how the agent behaves. Mathematically, a policy is a mapping from states to actions $\\pi : \\mathcal{S} \\rightarrow \\mathcal{A}$. This mapping can be either deterministic or stochastic. In many cases, and particularly for the algorithms we consider, the policy is defined in terms of the value function. To familarize yourself with these ideas, you will implement several well-known decision policies. \n",
        "\n",
        "1. A uniform random policy: $a \\sim \\text{Uniform}(\\mathcal{A})$. \n",
        "2. A greedy decision policy that breaks ties unifomly at random. Do this for Gaussian-random values. \n",
        "3. An epsilon-greedy policy that takes random actions $\\varepsilon$ percent of the time. Fix $\\varepsilon=0.1$ for this exercise.\n",
        "\n",
        "After many steps of experience, the distribution of state visitation counts will be proportional to the stationary distribution of the MDP. For each policy visualize the distribution of state visitation counts using the environment attribute env.counts. How do the three policies compare?\n",
        "\n",
        "For more information on polices and value functions see section 3.5 of Sutton and Barto. Within the same test, the greedy and epsilon-greedy policies are discussed in section 2.2. "
      ]
    },
    {
      "cell_type": "markdown",
      "source": [
        " ## Exercise: Implement decision policies.\n",
        "With the provided function signatures, implement the three decision policies mentioned above.  "
      ],
      "metadata": {
        "id": "t5m2gV2LIhpc"
      }
    },
    {
      "cell_type": "code",
      "metadata": {
        "id": "W_hripYUVpOs"
      },
      "source": [
        "#@title Policies (Exercise)\n",
        "def random_action(actions, rs):\n",
        "  \"\"\"\n",
        "    actions: an np array of action indices.\n",
        "    rs: the np random state.\n",
        "  \"\"\" \n",
        "\n",
        "  return rs.choice(actions)\n",
        "\n",
        "\n",
        "def greedy_action(w, x, rs):\n",
        "  \"\"\"\n",
        "    w: a (num_states, num_actions) jnp matrix of action values.\n",
        "    x: observation vector.\n",
        "    rs: the np random state.\n",
        "  \"\"\" \n",
        "  # YOUR CODE GOES HERE.\n",
        "  #idx = np.argmax(x)\n",
        "  # action = jnp.argmax(w[idx])\n",
        "  q  = jnp.matmul(x,w)\n",
        "  a = jnp.flatnonzero(q==np.max(q))\n",
        "  return rs.choice(a) #jnp.argmax(w[idx])\n",
        "\n",
        "\n",
        "def epsilon_greedy(w, x, rs, epsilon=0.1):\n",
        "  \"\"\"\n",
        "    w: a (num_states, num_actions) jnp matrix of action values.\n",
        "    x: observation vector.\n",
        "    rs: the np random state.\n",
        "    epsilon: the probability of taking a random action.\n",
        "  \"\"\" \n",
        "  # YOUR CODE GOES HERE.\n",
        "  \n",
        "\n",
        "  return rs.choice(jnp.shape(w)[-1]) if rs.rand() < epsilon else greedy_action(w,x,rs)"
      ],
      "execution_count": 5,
      "outputs": []
    },
    {
      "cell_type": "code",
      "source": [
        "#@title Random policy (Exercise). \n",
        "env = GridWorld()\n",
        "last_x_w = env.reset()\n",
        "\n",
        "rs = np.random.RandomState(0)\n",
        "actions = np.arange(env.num_actions) # YOUR CODE GOES HERE.\n",
        "for _ in range(1000):\n",
        "  last_action = random_action(actions,rs) # YOUR CODE GOES HERE.\n",
        "  x_w, reward, done = env.step(last_action) \n",
        "\n",
        "  if done:\n",
        "    last_x_w = env.reset()\n",
        "  else:\n",
        "    last_x_w = x_w\n",
        "random_state_visitation = np.copy(env.counts)# YOUR CODE GOES HERE."
      ],
      "metadata": {
        "id": "pDW2del1Q5lt"
      },
      "execution_count": 6,
      "outputs": []
    },
    {
      "cell_type": "code",
      "source": [
        "print(random_state_visitation)"
      ],
      "metadata": {
        "colab": {
          "base_uri": "https://localhost:8080/"
        },
        "id": "ORd-UkWs8WWz",
        "outputId": "0b3eab51-e8dd-4359-d60f-787b99b3c39d"
      },
      "execution_count": 7,
      "outputs": [
        {
          "output_type": "stream",
          "name": "stdout",
          "text": [
            "[66. 57. 45. 23.  9.  8.  8.  1.  4.  8. 69. 67.  0. 25. 13. 10. 11.  0.\n",
            "  1.  5. 43. 55.  0. 29. 18. 14. 12.  2.  1.  7.  0.  0.  0. 20. 18. 12.\n",
            "  0.  0.  0.  3. 13.  6. 12. 14. 24. 25.  0.  0.  0.  0.  9.  5. 10. 10.\n",
            " 13. 13.  0.  1.  0.  0.  6.  5.  3.  2.  4.  3.  1.  9.  8.  3.  7.  9.\n",
            "  3.  0.  3.  5.  0.  7.  0.  2.  8. 10.  8.  0.  0. 16.  0.  0.  0.  2.\n",
            " 16. 11. 16.  4.  6.  5.  0.  0.  0.  1.]\n"
          ]
        }
      ]
    },
    {
      "cell_type": "code",
      "source": [
        "#@title Greedy policy with random values (Exercise).\n",
        "env = GridWorld()\n",
        "last_x_w = env.reset()\n",
        "\n",
        "rs = np.random.RandomState(0)\n",
        "random_values = rs.randn(env.num_states,env.num_actions)# YOUR CODE GOES HERE.\n",
        "\n",
        "print(random_values)\n",
        "for _ in range(1000):\n",
        "  # YOUR CODE GOES HERE.\n",
        "  last_action = greedy_action(random_values, last_x_w,rs) # YOUR CODE GOES HERE.\n",
        "  x_w, reward, done = env.step(last_action)\n",
        "  \n",
        "  #print(f'current state : {np.argmax(x_w)}, action: {last_action}')\n",
        "  if done:\n",
        "    last_x_w = env.reset()\n",
        "  else:\n",
        "    last_x_w = x_w\n",
        "greedy_state_visitation = np.copy(env.counts)# YOUR CODE GOES HERE."
      ],
      "metadata": {
        "id": "0g7HJVfzRz3S",
        "colab": {
          "base_uri": "https://localhost:8080/"
        },
        "outputId": "f4ad0d6f-a130-4dc4-a6f8-3a640dc0f2c6",
        "cellView": "form"
      },
      "execution_count": 8,
      "outputs": [
        {
          "output_type": "stream",
          "name": "stdout",
          "text": [
            "[[ 1.76405235  0.40015721  0.97873798  2.2408932 ]\n",
            " [ 1.86755799 -0.97727788  0.95008842 -0.15135721]\n",
            " [-0.10321885  0.4105985   0.14404357  1.45427351]\n",
            " [ 0.76103773  0.12167502  0.44386323  0.33367433]\n",
            " [ 1.49407907 -0.20515826  0.3130677  -0.85409574]\n",
            " [-2.55298982  0.6536186   0.8644362  -0.74216502]\n",
            " [ 2.26975462 -1.45436567  0.04575852 -0.18718385]\n",
            " [ 1.53277921  1.46935877  0.15494743  0.37816252]\n",
            " [-0.88778575 -1.98079647 -0.34791215  0.15634897]\n",
            " [ 1.23029068  1.20237985 -0.38732682 -0.30230275]\n",
            " [-1.04855297 -1.42001794 -1.70627019  1.9507754 ]\n",
            " [-0.50965218 -0.4380743  -1.25279536  0.77749036]\n",
            " [-1.61389785 -0.21274028 -0.89546656  0.3869025 ]\n",
            " [-0.51080514 -1.18063218 -0.02818223  0.42833187]\n",
            " [ 0.06651722  0.3024719  -0.63432209 -0.36274117]\n",
            " [-0.67246045 -0.35955316 -0.81314628 -1.7262826 ]\n",
            " [ 0.17742614 -0.40178094 -1.63019835  0.46278226]\n",
            " [-0.90729836  0.0519454   0.72909056  0.12898291]\n",
            " [ 1.13940068 -1.23482582  0.40234164 -0.68481009]\n",
            " [-0.87079715 -0.57884966 -0.31155253  0.05616534]\n",
            " [-1.16514984  0.90082649  0.46566244 -1.53624369]\n",
            " [ 1.48825219  1.89588918  1.17877957 -0.17992484]\n",
            " [-1.07075262  1.05445173 -0.40317695  1.22244507]\n",
            " [ 0.20827498  0.97663904  0.3563664   0.70657317]\n",
            " [ 0.01050002  1.78587049  0.12691209  0.40198936]\n",
            " [ 1.8831507  -1.34775906 -1.270485    0.96939671]\n",
            " [-1.17312341  1.94362119 -0.41361898 -0.74745481]\n",
            " [ 1.92294203  1.48051479  1.86755896  0.90604466]\n",
            " [-0.86122569  1.91006495 -0.26800337  0.8024564 ]\n",
            " [ 0.94725197 -0.15501009  0.61407937  0.92220667]\n",
            " [ 0.37642553 -1.09940079  0.29823817  1.3263859 ]\n",
            " [-0.69456786 -0.14963454 -0.43515355  1.84926373]\n",
            " [ 0.67229476  0.40746184 -0.76991607  0.53924919]\n",
            " [-0.67433266  0.03183056 -0.63584608  0.67643329]\n",
            " [ 0.57659082 -0.20829876  0.39600671 -1.09306151]\n",
            " [-1.49125759  0.4393917   0.1666735   0.63503144]\n",
            " [ 2.38314477  0.94447949 -0.91282223  1.11701629]\n",
            " [-1.31590741 -0.4615846  -0.06824161  1.71334272]\n",
            " [-0.74475482 -0.82643854 -0.09845252 -0.66347829]\n",
            " [ 1.12663592 -1.07993151 -1.14746865 -0.43782004]\n",
            " [-0.49803245  1.92953205  0.94942081  0.08755124]\n",
            " [-1.22543552  0.84436298 -1.00021535 -1.5447711 ]\n",
            " [ 1.18802979  0.31694261  0.92085882  0.31872765]\n",
            " [ 0.85683061 -0.65102559 -1.03424284  0.68159452]\n",
            " [-0.80340966 -0.68954978 -0.4555325   0.01747916]\n",
            " [-0.35399391 -1.37495129 -0.6436184  -2.22340315]\n",
            " [ 0.62523145 -1.60205766 -1.10438334  0.05216508]\n",
            " [-0.739563    1.5430146  -1.29285691  0.26705087]\n",
            " [-0.03928282 -1.1680935   0.52327666 -0.17154633]\n",
            " [ 0.77179055  0.82350415  2.16323595  1.33652795]\n",
            " [-0.36918184 -0.23937918  1.0996596   0.65526373]\n",
            " [ 0.64013153 -1.61695604 -0.02432612 -0.73803091]\n",
            " [ 0.2799246  -0.09815039  0.91017891  0.31721822]\n",
            " [ 0.78632796 -0.4664191  -0.94444626 -0.41004969]\n",
            " [-0.01702041  0.37915174  2.25930895 -0.04225715]\n",
            " [-0.955945   -0.34598178 -0.46359597  0.48148147]\n",
            " [-1.54079701  0.06326199  0.15650654  0.23218104]\n",
            " [-0.59731607 -0.23792173 -1.42406091 -0.49331988]\n",
            " [-0.54286148  0.41605005 -1.15618243  0.7811981 ]\n",
            " [ 1.49448454 -2.06998503  0.42625873  0.67690804]\n",
            " [-0.63743703 -0.39727181 -0.13288058 -0.29779088]\n",
            " [-0.30901297 -1.67600381  1.15233156  1.07961859]\n",
            " [-0.81336426 -1.46642433  0.52106488 -0.57578797]\n",
            " [ 0.14195316 -0.31932842  0.69153875  0.69474914]\n",
            " [-0.72559738 -1.38336396 -1.5829384   0.61037938]\n",
            " [-1.18885926 -0.50681635 -0.59631404 -0.0525673 ]\n",
            " [-1.93627981  0.1887786   0.52389102  0.08842209]\n",
            " [-0.31088617  0.09740017  0.39904635 -2.77259276]\n",
            " [ 1.95591231  0.39009332 -0.65240858 -0.39095338]\n",
            " [ 0.49374178 -0.11610394 -2.03068447  2.06449286]\n",
            " [-0.11054066  1.02017271 -0.69204985  1.53637705]\n",
            " [ 0.28634369  0.60884383 -1.04525337  1.21114529]\n",
            " [ 0.68981816  1.30184623 -0.62808756 -0.48102712]\n",
            " [ 2.3039167  -1.06001582 -0.1359497   1.13689136]\n",
            " [ 0.09772497  0.58295368 -0.39944903  0.37005589]\n",
            " [-1.30652685  1.65813068 -0.11816405 -0.6801782 ]\n",
            " [ 0.66638308 -0.46071979 -1.33425847 -1.34671751]\n",
            " [ 0.69377315 -0.15957344 -0.13370156  1.07774381]\n",
            " [-1.12682581 -0.73067775 -0.38487981  0.09435159]\n",
            " [-0.04217145 -0.28688719 -0.0616264  -0.10730528]\n",
            " [-0.71960439 -0.81299299  0.27451636 -0.89091508]\n",
            " [-1.15735526 -0.31229225 -0.15766702  2.2567235 ]\n",
            " [-0.70470028  0.94326072  0.74718833 -1.18894496]\n",
            " [ 0.77325298 -1.18388064 -2.65917224  0.60631952]\n",
            " [-1.75589058  0.45093446 -0.6840109   1.6595508 ]\n",
            " [ 1.0685094  -0.4533858  -0.68783761 -1.2140774 ]\n",
            " [-0.44092263 -0.2803555  -0.36469354  0.15670386]\n",
            " [ 0.5785215   0.34965446 -0.76414392 -1.43779147]\n",
            " [ 1.36453185 -0.68944918 -0.6522936  -0.52118931]\n",
            " [-1.84306955 -0.477974   -0.47965581  0.6203583 ]\n",
            " [ 0.69845715  0.00377089  0.93184837  0.33996498]\n",
            " [-0.01568211  0.16092817 -0.19065349 -0.39484951]\n",
            " [-0.26773354 -1.12801133  0.28044171 -0.99312361]\n",
            " [ 0.84163126 -0.24945858  0.04949498  0.49383678]\n",
            " [ 0.64331447 -1.57062341 -0.20690368  0.88017891]\n",
            " [-1.69810582  0.38728048 -2.25556423 -1.02250684]\n",
            " [ 0.03863055 -1.6567151  -0.98551074 -1.47183501]\n",
            " [ 1.64813493  0.16422776  0.56729028 -0.2226751 ]\n",
            " [-0.35343175 -1.61647419 -0.29183736 -0.76149221]\n",
            " [ 0.85792392  1.14110187  1.46657872  0.85255194]]\n"
          ]
        }
      ]
    },
    {
      "cell_type": "code",
      "source": [
        "print(greedy_state_visitation)"
      ],
      "metadata": {
        "colab": {
          "base_uri": "https://localhost:8080/"
        },
        "id": "Ksnbjjnn-uwH",
        "outputId": "1acc0234-b372-4a71-d06b-9d82b4e1eab4"
      },
      "execution_count": 9,
      "outputs": [
        {
          "output_type": "stream",
          "name": "stdout",
          "text": [
            "[1001.    0.    0.    0.    0.    0.    0.    0.    0.    0.    0.    0.\n",
            "    0.    0.    0.    0.    0.    0.    0.    0.    0.    0.    0.    0.\n",
            "    0.    0.    0.    0.    0.    0.    0.    0.    0.    0.    0.    0.\n",
            "    0.    0.    0.    0.    0.    0.    0.    0.    0.    0.    0.    0.\n",
            "    0.    0.    0.    0.    0.    0.    0.    0.    0.    0.    0.    0.\n",
            "    0.    0.    0.    0.    0.    0.    0.    0.    0.    0.    0.    0.\n",
            "    0.    0.    0.    0.    0.    0.    0.    0.    0.    0.    0.    0.\n",
            "    0.    0.    0.    0.    0.    0.    0.    0.    0.    0.    0.    0.\n",
            "    0.    0.    0.    0.]\n"
          ]
        }
      ]
    },
    {
      "cell_type": "code",
      "source": [
        "#@title $\\varepsilon$-Greedy policy with random values (Exercise).\n",
        "env = GridWorld()\n",
        "last_x_w = env.reset()\n",
        "\n",
        "rs = np.random.RandomState(0)\n",
        "random_values = rs.rand(env.num_states, env.num_actions)# YOUR CODE GOES HERE.\n",
        "for _ in range(1000):\n",
        "  last_action = epsilon_greedy(random_values, last_x_w,rs) # YOUR CODE GOES HERE.\n",
        "  x_w, reward, done = env.step(last_action) \n",
        "\n",
        "  if done:\n",
        "    last_x_w = env.reset()\n",
        "  else:\n",
        "    last_x_w = x_w\n",
        "\n",
        "epsilon_greedy_state_visitation = np.copy(env.counts)# YOUR CODE GOES HERE."
      ],
      "metadata": {
        "id": "ICZ8qB-MSAV8",
        "cellView": "form"
      },
      "execution_count": 10,
      "outputs": []
    },
    {
      "cell_type": "code",
      "source": [
        "print(epsilon_greedy_state_visitation)"
      ],
      "metadata": {
        "colab": {
          "base_uri": "https://localhost:8080/"
        },
        "id": "BgADBrV2DxiN",
        "outputId": "6b35adc6-7ab8-4b9e-d1b8-f00e52588fa4"
      },
      "execution_count": 11,
      "outputs": [
        {
          "output_type": "stream",
          "name": "stdout",
          "text": [
            "[ 32.  36.  78.  82.  81.  58.   2.   1.   2.   0.   5.  93.   0.   3.\n",
            "   3.   2.   0.   0.   1.   0.  60.   7.   0.   1.  10.  10.   2.   1.\n",
            "  11.   0.   0.   0.   0.  18.  11.   9.   0.   0.   0.   0.  20.   9.\n",
            "   0.   1.   0.   0.   0.   0.   0.   0.   2.  27.   2.   1.   0.   0.\n",
            "   0.   0.   0.   0.   1.  27.   2.   0.   0.   0.   0.   0.   0.   0.\n",
            "   5.   5.   0.   0.   0.   0.   0.   0.   0.   0. 243.  19.   0.   0.\n",
            "   0.   0.   0.   0.   0.   0.   9.   9.   0.   0.   0.   0.   0.   0.\n",
            "   0.   0.]\n"
          ]
        }
      ]
    },
    {
      "cell_type": "markdown",
      "source": [
        "Plot the results with the code below."
      ],
      "metadata": {
        "id": "KB3W-w_5SSdT"
      }
    },
    {
      "cell_type": "code",
      "metadata": {
        "colab": {
          "base_uri": "https://localhost:8080/",
          "height": 282
        },
        "id": "xxEgTCG9SCJJ",
        "outputId": "b1b9c7d5-2e03-44d1-d704-3fb817bf449a"
      },
      "source": [
        "plt.bar(np.arange(env.num_states), greedy_state_visitation, label='Greedy')\n",
        "plt.bar(np.arange(env.num_states), random_state_visitation, label='Random')\n",
        "plt.bar(np.arange(env.num_states), epsilon_greedy_state_visitation, label=r'$\\varepsilon$-Greedy')\n",
        "plt.legend()"
      ],
      "execution_count": 12,
      "outputs": [
        {
          "output_type": "execute_result",
          "data": {
            "text/plain": [
              "<matplotlib.legend.Legend at 0x7fabdaed9f50>"
            ]
          },
          "metadata": {},
          "execution_count": 12
        },
        {
          "output_type": "display_data",
          "data": {
            "image/png": "[encoded data removed]",
            "text/plain": [
              "<Figure size 432x288 with 1 Axes>"
            ]
          },
          "metadata": {
            "needs_background": "light"
          }
        }
      ]
    },
    {
      "cell_type": "markdown",
      "source": [
        "## Observations (Exercise)\n",
        "\n",
        "- The random uniform actions takes random steps to different states.\n",
        "- Meanwhile in Greedy approach, the agent does not transistion from the first state.\n",
        "- In $\\epsilon$-Greedy approach, the agent explores and reaches different states."
      ],
      "metadata": {
        "id": "4gy63xclSYLQ"
      }
    },
    {
      "cell_type": "markdown",
      "metadata": {
        "id": "kjXZwmsSWXLm"
      },
      "source": [
        "# Part 2. Policy Evaluation (Prediction)\n",
        "\n",
        "When performing policy evalution, a system learns to predict the sum of future rewards that occur while following a policy $\\pi$. If the experience used to learn the prediction comes from the policy itself, then we say the evaluation is on-policy. In this component you will implement Sarsa, a learning algorithm for on-policy evaluation. \n",
        "\n",
        "The Sarsa algorithm starts with an arbitrary estimate of action values $q_\\pi(s,a)$ for all $s,a$, then it uses experience gathered under $\\pi$ to incrementally improve the action-value estimates. The update rule follows the method of temporal differences at each transition $s,a\\rightarrow r,s',a'$, where $a,a'\\sim \\pi$. See section 6.4 of Sutton and Barto for more information.\n",
        "$$q_\\pi(s,a) \\gets q_\\pi(s,a) + \\alpha[r +\\gamma q_\\pi(s',a') - q_\\pi(s,a)].$$\n"
      ]
    },
    {
      "cell_type": "code",
      "metadata": {
        "id": "as4Z29cyJp4I"
      },
      "source": [
        "#title Visualization code\n",
        "def plot_colored_value_cell(x, y, q, ax, norm):\n",
        "  scale = 0.2\n",
        "  size = scale * 1\n",
        "  cmap = cm.get_cmap('jet')#cm.Jet\n",
        "  v = np.max(q)\n",
        "  color=cmap(norm(v)) \n",
        "  head_width = .05 * scale\n",
        "  head_length = .05 * scale\n",
        "  x = scale * x\n",
        "  y = scale * y\n",
        "\n",
        "  rect = plt.Rectangle([x, y], size, size,\n",
        "                      facecolor=color, \n",
        "                      edgecolor='black',\n",
        "                      clip_on=False)\n",
        "  ax.add_patch(rect)\n",
        "\n",
        "  ax.text(x+size/2, y+size/2, '{value:.2f}'.format(value=v))\n",
        "\n",
        "  return ax\n",
        "\n",
        "def plot_arrow_value_cell(x, y, q, ax):\n",
        "  scale = 0.2\n",
        "  size = scale * 1\n",
        "\n",
        "  color='white'\n",
        "  head_width = .05 * scale\n",
        "  head_length = .05 * scale\n",
        "  q_norm = scale * .5 * q / np.sqrt(np.sum(q**2)) \n",
        "  x = scale * x\n",
        "  y = scale * y\n",
        "\n",
        "  rect = plt.Rectangle([x, y], size, size,\n",
        "                      facecolor=color, \n",
        "                      edgecolor='black',\n",
        "                      clip_on=False)\n",
        "  ax.add_patch(rect)\n",
        "  x = x + .5 * scale\n",
        "  y = y + .5 * scale\n",
        "\n",
        "  # left\n",
        "  dx = q_norm[0]\n",
        "  ax.arrow(x, y, -dx, 0, \n",
        "            length_includes_head=True,\n",
        "            head_width=head_width,\n",
        "            head_length=head_length,\n",
        "            color='black')\n",
        "  # up\n",
        "  dy = q_norm[1]\n",
        "  ax.arrow(x, y, 0, dy, \n",
        "            length_includes_head=True,\n",
        "            head_width=head_width,\n",
        "            head_length=head_length,\n",
        "            color='black')\n",
        "  # right\n",
        "  dx = q_norm[2]\n",
        "  ax.arrow(x, y, dx, 0, \n",
        "            length_includes_head=True,\n",
        "            head_width=head_width,\n",
        "            head_length=head_length,\n",
        "            color='black')\n",
        "  #down\n",
        "  dy = q_norm[3]\n",
        "  ax.arrow(x, y, 0, -dy, \n",
        "            length_includes_head=True,\n",
        "            head_width=head_width,\n",
        "            head_length=head_length,\n",
        "            color='black')\n",
        "  return ax\n",
        "\n",
        "def plot_greedy_cell(x, y, q, ax,forbidden):\n",
        "  scale = 0.2\n",
        "  size = scale * 1\n",
        "\n",
        "  color='black' if forbidden else 'white'\n",
        "  head_width = .05 * scale\n",
        "  head_length = .05 * scale\n",
        "  q_norm = scale * .5 * q / np.sqrt(np.sum(q**2)) \n",
        "  i_greedy = np.argmax(q_norm)\n",
        "\n",
        "  x = scale * x\n",
        "  y = scale * y\n",
        "\n",
        "  rect = plt.Rectangle([x, y], size, size,\n",
        "                      facecolor=color, \n",
        "                      edgecolor='black',\n",
        "                      clip_on=False)\n",
        "  ax.add_patch(rect)\n",
        "  x = x + .5 * scale\n",
        "  y = y + .5 * scale\n",
        "\n",
        "  if i_greedy == 0:\n",
        "    # left\n",
        "    dx = q_norm[0]\n",
        "    ax.arrow(x, y, -dx, 0, \n",
        "              length_includes_head=True,\n",
        "              head_width=head_width,\n",
        "              head_length=head_length,\n",
        "              color='black')\n",
        "  elif i_greedy == 1:\n",
        "    # up\n",
        "    dy = q_norm[1]\n",
        "    ax.arrow(x, y, 0, dy, \n",
        "              length_includes_head=True,\n",
        "              head_width=head_width,\n",
        "              head_length=head_length,\n",
        "              color='black')\n",
        "  elif i_greedy == 2:\n",
        "    # right\n",
        "    dx = q_norm[2]\n",
        "    ax.arrow(x, y, dx, 0, \n",
        "              length_includes_head=True,\n",
        "              head_width=head_width,\n",
        "              head_length=head_length,\n",
        "              color='black')\n",
        "  elif i_greedy == 3:\n",
        "    #down\n",
        "    dy = q_norm[3]\n",
        "    ax.arrow(x, y, 0, -dy, \n",
        "              length_includes_head=True,\n",
        "              head_width=head_width,\n",
        "              head_length=head_length,\n",
        "              color='black')\n",
        "  return ax\n",
        "\n",
        "\n",
        "def plot_qvals(env, agent, arrow_plot=False):\n",
        "  qvalues = np.zeros((env.num_states, env.num_actions))\n",
        "  for s in range(env.num_states):\n",
        "    state = jax.nn.one_hot(s, env.num_states)\n",
        "    for a in range(env.num_actions):\n",
        "      qvalues[s, a] = agent.value(state, a)\n",
        "  \n",
        "  vmin, vmax = np.min(qvalues), np.max(qvalues)\n",
        "  norm = matplotlib.colors.Normalize(vmin=vmin, vmax=vmax, clip=True)\n",
        "\n",
        "  fig, ax = plt.subplots(figsize=(10,10))\n",
        "  for i in range(100):\n",
        "    x, y = env.get_xy(i)\n",
        "    if arrow_plot:\n",
        "      plot_arrow_value_cell(x, y, qvalues[i], ax)\n",
        "    else:\n",
        "      plot_colored_value_cell(x, y, qvalues[i], ax, norm)\n",
        "  ax.set_axis_off()\n",
        "  plt.plot()\n",
        "\n",
        "\n",
        "def plot_greedy_policy(env, agent):\n",
        "  qvalues = np.zeros((env.num_states, env.num_actions))\n",
        "  for s in range(env.num_states):\n",
        "    state = jax.nn.one_hot(s, env.num_states)\n",
        "    for a in range(env.num_actions):\n",
        "      qvalues[s, a] = agent.value(state, a)\n",
        "\n",
        "  fig, ax = plt.subplots(figsize=(10,10))\n",
        "\n",
        "  forbidden_states = env.get_forbidden_states()\n",
        "  for i in range(100):\n",
        "    x, y = env.get_xy(i)\n",
        "    forbidden = i in forbidden_states\n",
        "    plot_greedy_cell(x, y, qvalues[i], ax, forbidden)\n",
        "  \n",
        "  ax.set_axis_off()\n",
        "  plt.plot()\n"
      ],
      "execution_count": 13,
      "outputs": []
    },
    {
      "cell_type": "markdown",
      "source": [
        " ## Exercise: Sarsa Implementation.\n",
        "\n",
        " Implement the Sarsa algorithm.\n",
        " $$q_\\pi(s,a) \\gets q_\\pi(s,a) + \\alpha[r +\\gamma q_\\pi(s',a') - q_\\pi(s,a)].$$\n"
      ],
      "metadata": {
        "id": "lt1fmHpcKVMd"
      }
    },
    {
      "cell_type": "code",
      "source": [
        "#@title Sarsa (Exercise)\n",
        "class Sarsa(object):\n",
        "  \"\"\"Sarsa.\"\"\"\n",
        "  def __init__(self,\n",
        "               first_x_w,\n",
        "               num_actions,\n",
        "               discount=0.9,\n",
        "               alpha_w=1.):\n",
        "    self.last_x_w = first_x_w\n",
        "    self.num_actions = num_actions\n",
        "    self.w_q = jnp.zeros((len(self.last_x_w), self.num_actions))\n",
        "    self.discount = discount\n",
        "    self.alpha_w= alpha_w\n",
        "\n",
        "  def update(self, last_x_w, last_a, reward, x_w, a, done):\n",
        "    # YOUR CODE GOES HERE.\n",
        "    discount  = 0. if done else self.discount\n",
        "\n",
        "    \n",
        "    predict = self.value(last_x_w, last_a)\n",
        "    target = self.value(x_w, a)\n",
        "\n",
        "    td_error = reward + discount * target - predict\n",
        "\n",
        "    predict += self.alpha_w * td_error\n",
        "\n",
        "    \n",
        "\n",
        "    # predict = self.value(last_x_w, last_a)\n",
        "    # target = self.value(x_w, a)\n",
        "    # u_value = predict + self.alpha_w*(reward + self.discount * target - predict)\n",
        "    # # print(self.w_q)\n",
        "    idx = np.argmax(last_x_w)\n",
        "\n",
        "    self.w_q = self.w_q.at[idx, last_a].set(predict)\n",
        "    #self.w_q = jax.ops.index_update(self.w_q, jax.ops.index[::,last_a], predict)\n",
        "\n",
        "\n",
        "  def value(self, x_w, action):\n",
        "    # YOUR CODE GOES HERE.\n",
        "    # state = np.argmax(x_w)\n",
        "    return jnp.dot(self.w_q[:,action], x_w) #self.w_q[state, action]"
      ],
      "metadata": {
        "id": "POTdnkcuSpqE"
      },
      "execution_count": 14,
      "outputs": []
    },
    {
      "cell_type": "markdown",
      "metadata": {
        "id": "58OXLcEOuRxw"
      },
      "source": [
        "## Exercise: Policy evaluation with Sarsa.\n",
        "\n",
        "Use your implementation of Sarsa to evaluate the actions of a random policy."
      ]
    },
    {
      "cell_type": "code",
      "metadata": {
        "id": "dCzbjwWWaXVf"
      },
      "source": [
        "env = GridWorld()\n",
        "last_x_w = env.reset()\n",
        "agent = Sarsa(first_x_w=last_x_w, num_actions=env.num_actions)\n",
        "\n",
        "rs = np.random.RandomState(0)\n",
        "actions = np.arange(env.num_actions)\n",
        "steps = []\n",
        "ep_steps = 0.\n",
        "for t in range(1000):\n",
        "  last_action = random_action(actions, rs)\n",
        "  x_w, reward, done = env.step(last_action) \n",
        "  action = random_action(actions, rs)\n",
        "  agent.update(last_x_w, last_action, reward, x_w, action, done)\n",
        "\n",
        "  ep_steps += 1\n",
        "  if done:\n",
        "    last_x_w = env.reset()\n",
        "    steps.append(ep_steps)\n",
        "    ep_steps = 0.\n",
        "  else:\n",
        "    last_x_w = x_w"
      ],
      "execution_count": 15,
      "outputs": []
    },
    {
      "cell_type": "code",
      "metadata": {
        "colab": {
          "base_uri": "https://localhost:8080/",
          "height": 575
        },
        "id": "tAPvpX1KvvzO",
        "outputId": "1a838786-63ad-49df-d7a2-8393c4539ed8"
      },
      "source": [
        "plot_qvals(env, agent)"
      ],
      "execution_count": 16,
      "outputs": [
        {
          "output_type": "display_data",
          "data": {
            "image/png": "[encoded data removed]",
            "text/plain": [
              "<Figure size 720x720 with 1 Axes>"
            ]
          },
          "metadata": {
            "needs_background": "light"
          }
        }
      ]
    },
    {
      "cell_type": "markdown",
      "metadata": {
        "id": "HvwlEaxLuWg6"
      },
      "source": [
        "## Exercise: On-policy control with Sarsa.\n",
        "\n",
        "Sarsa can also be used as an on-policy control algorithm. One case in which this occurs is under the $\\varepsilon$-greedy policy. \n",
        "\n",
        "At any given time, the learner selects the best action according to the current estimate of the action-value function, with probability $1-\\varepsilon$. Then $\\varepsilon$ percent of the time the learner acts randomly. \n",
        "\n",
        "Throughout this process, the values that Sarsa learns become increasingly accurate. This causes the policy that it evaluates to change. Eventually, the process stabilizes (at least in this domain) when the values reflect the true greedy actions. These will be optimal for achieving high return.\n",
        "\n",
        "Use your implementation of Sarsa to evaluate the actions of an epsilon-greedy policy. \n"
      ]
    },
    {
      "cell_type": "code",
      "source": [
        "from tqdm import tqdm"
      ],
      "metadata": {
        "id": "N4VDlwNWDYZd"
      },
      "execution_count": 17,
      "outputs": []
    },
    {
      "cell_type": "code",
      "metadata": {
        "id": "T4TtMxmZuV9x",
        "colab": {
          "base_uri": "https://localhost:8080/"
        },
        "outputId": "5060b8d3-9583-473b-9be1-f061554ec2b0"
      },
      "source": [
        "env = GridWorld()\n",
        "last_x_w = env.reset()\n",
        "agent = Sarsa(first_x_w=last_x_w, num_actions=env.num_actions)\n",
        "\n",
        "rs = np.random.RandomState(0)\n",
        "steps = []\n",
        "ep_steps = 0.\n",
        "for t in tqdm(range(10000)):\n",
        "  last_action = epsilon_greedy(agent.w_q, last_x_w, rs)\n",
        "  x_w, reward, done = env.step(last_action) \n",
        "  action = epsilon_greedy(agent.w_q, x_w, rs)\n",
        "  agent.update(last_x_w, last_action, reward, x_w, action, done)\n",
        "\n",
        "  ep_steps += 1\n",
        "  if done:\n",
        "    last_x_w = env.reset()\n",
        "    steps.append(ep_steps)\n",
        "    ep_steps = 0.\n",
        "  else:\n",
        "    last_x_w = x_w"
      ],
      "execution_count": 18,
      "outputs": [
        {
          "output_type": "stream",
          "name": "stderr",
          "text": [
            "100%|██████████| 10000/10000 [01:38<00:00, 101.80it/s]\n"
          ]
        }
      ]
    },
    {
      "cell_type": "code",
      "metadata": {
        "colab": {
          "base_uri": "https://localhost:8080/",
          "height": 575
        },
        "id": "1cii5_efbPLq",
        "outputId": "764ef30e-cf3a-4108-94e3-ade8698c6c9b"
      },
      "source": [
        "plot_qvals(env, agent)"
      ],
      "execution_count": 19,
      "outputs": [
        {
          "output_type": "display_data",
          "data": {
            "image/png": "[encoded data removed]",
            "text/plain": [
              "<Figure size 720x720 with 1 Axes>"
            ]
          },
          "metadata": {
            "needs_background": "light"
          }
        }
      ]
    },
    {
      "cell_type": "code",
      "source": [
        "plot_greedy_policy(env,agent)"
      ],
      "metadata": {
        "colab": {
          "base_uri": "https://localhost:8080/",
          "height": 612
        },
        "id": "kFdheaWxwBV2",
        "outputId": "8722c94c-3d42-48d2-a2a9-b99c449cc5ac"
      },
      "execution_count": 20,
      "outputs": [
        {
          "output_type": "stream",
          "name": "stderr",
          "text": [
            "/usr/local/lib/python3.7/dist-packages/ipykernel_launcher.py:79: RuntimeWarning: invalid value encountered in true_divide\n"
          ]
        },
        {
          "output_type": "display_data",
          "data": {
            "image/png": "[encoded data removed]",
            "text/plain": [
              "<Figure size 720x720 with 1 Axes>"
            ]
          },
          "metadata": {
            "needs_background": "light"
          }
        }
      ]
    },
    {
      "cell_type": "markdown",
      "metadata": {
        "id": "0h1YnWvoaCI_"
      },
      "source": [
        "# Part 3. Policy Iteration (Control)\n",
        "\n",
        "Reinforcement learning is renowed for having general-purpose algorithms that can learn useful decision policies without access to a transition model. Algorithms of this type sample transitions by directly interacting with an environment: taking actions and observing the outcomes. With this feedback, a learning system can iteratively evaluate and improve its policy, so that in the long term, its actions lead to the maximum amount of future reward.\n",
        "\n",
        "Here we focus on an off-policy algorithm for control. Off-policy algorithms use experience gathered under a behavior policy, $\\pi$, to update a target policy $\\pi^*$. The Q-Learning algorithm (Watkins 1989) considers the greedy target policy and applies the method of temporal differences to update its action-value estimates. The update rule is given below.\n",
        "\n",
        "\n",
        "$$q(s,a) \\gets q(s,a) + \\alpha[r+\\gamma \\max_{a'\\in\\mathcal{A}} q(s',a') - q(s,a)].$$\n",
        "\n"
      ]
    },
    {
      "cell_type": "markdown",
      "metadata": {
        "id": "ICY4mlbVPgW8"
      },
      "source": [
        " ## Exercise: Q-Learning implementation\n",
        "\n",
        "Implement Q-learning"
      ]
    },
    {
      "cell_type": "code",
      "source": [
        "#@title Q-Learning (Exercise) $$q(s,a) \\gets q(s,a) + \\alpha[r + \\gamma max_{a' \\in A} q(s',a') - q(s,a)] $$\n",
        "class QLearning(object):\n",
        "  \"\"\"QLearning.\"\"\"\n",
        "  def __init__(self,\n",
        "               first_x_w,\n",
        "               num_actions,\n",
        "               discount=0.9,\n",
        "               alpha_w=1.):\n",
        "    self.last_x_w = first_x_w\n",
        "    self.num_actions = num_actions\n",
        "    self.w_q = jnp.zeros((len(self.last_x_w), self.num_actions))\n",
        "    self.discount = discount\n",
        "    self.alpha_w= alpha_w\n",
        "\n",
        "  def update(self, last_x_w, last_a, reward, x_w, done):\n",
        "    # YOUR CODE GOES HERE.\n",
        "    discount = 0. if done else self.discount\n",
        "\n",
        "    a = greedy_action(self.w_q, x_w, np.random.RandomState(0))\n",
        "    # estimate = self.value(last_x_w, last_a)\n",
        "    # #idx = np.argmax(x_w)\n",
        "    # max_target = self.value(x_w, a)\n",
        "    \n",
        "\n",
        "    # td_error = reward + discount * max_target - estimate\n",
        "    # estimate += self.alpha_w * td_error\n",
        "\n",
        "\n",
        "    # #self.w_q = jax.ops.index_update(self.w_q, jax.ops.index[::,last_a], estimate)\n",
        "    # self.w_q  = self.w_q.at[np.argmax(last_x_w), last_a].set(estimate)\n",
        "\n",
        "    predict = self.value(last_x_w, last_a)\n",
        "    target = self.value(x_w, a)\n",
        "\n",
        "    td_error = reward + discount * target - predict\n",
        "\n",
        "    predict += self.alpha_w * td_error \n",
        "\n",
        "    \n",
        "\n",
        "    # predict = self.value(last_x_w, last_a)\n",
        "    # target = self.value(x_w, a)\n",
        "    # u_value = predict + self.alpha_w*(reward + self.discount * target - predict)\n",
        "    # # print(self.w_q)\n",
        "    idx = np.argmax(last_x_w)\n",
        "\n",
        "    # self.w_q = jax.ops.index_update(self.w_q, jax.ops.index[::,last_a], predict)\n",
        "    self.w_q = self.w_q.at[idx, last_a].set(predict)\n",
        "\n",
        "  def value(self, x_w, action):\n",
        "    # YOUR CODE GOES HERE.\n",
        "    return jnp.dot(self.w_q[:,action], x_w)"
      ],
      "metadata": {
        "id": "mDYi3zD2UMH9"
      },
      "execution_count": 21,
      "outputs": []
    },
    {
      "cell_type": "code",
      "metadata": {
        "id": "kqRdIoinVYTd",
        "colab": {
          "base_uri": "https://localhost:8080/"
        },
        "outputId": "e3e75826-4ca6-4b38-8ee6-c27ccbca5d6c"
      },
      "source": [
        "env = GridWorld()\n",
        "last_x_w = env.reset()\n",
        "agent = QLearning(first_x_w=last_x_w, num_actions=env.num_actions)\n",
        "\n",
        "rs = np.random.RandomState(0)\n",
        "steps = []\n",
        "ep_steps = 0.\n",
        "for t in tqdm(range(10000)):\n",
        "  last_action = epsilon_greedy(agent.w_q, last_x_w, rs)\n",
        "  x_w, reward, done = env.step(last_action) \n",
        "  agent.update(last_x_w, last_action, reward, x_w, done)\n",
        "\n",
        "  ep_steps += 1\n",
        "  if done:\n",
        "    last_x_w = env.reset()\n",
        "    steps.append(ep_steps)\n",
        "    ep_steps = 0.\n",
        "  else:\n",
        "    last_x_w = x_w"
      ],
      "execution_count": null,
      "outputs": [
        {
          "output_type": "stream",
          "name": "stderr",
          "text": [
            " 88%|████████▊ | 8752/10000 [01:32<00:12, 99.93it/s]"
          ]
        }
      ]
    },
    {
      "cell_type": "code",
      "metadata": {
        "id": "ChnL7G1TwUKZ"
      },
      "source": [
        "plot_qvals(env, agent)"
      ],
      "execution_count": null,
      "outputs": []
    },
    {
      "cell_type": "code",
      "metadata": {
        "id": "V2tOT6PMDOS7"
      },
      "source": [
        "plot_greedy_policy(env, agent)"
      ],
      "execution_count": null,
      "outputs": []
    },
    {
      "cell_type": "code",
      "metadata": {
        "id": "bqOl-Q3Eqgfx"
      },
      "source": [
        "fig, ax = plt.subplots(figsize=(10,5))\n",
        "ax.plot(np.arange(len(steps)), steps, label='Q-Learning')\n",
        "ax.hlines(y=18, xmin=0, xmax=len(steps), label='Shortest path')\n",
        "ax.set_xlabel('Episode')\n",
        "ax.set_ylabel('Steps to Goal')\n",
        "ax.legend()"
      ],
      "execution_count": null,
      "outputs": []
    },
    {
      "cell_type": "markdown",
      "metadata": {
        "id": "k4MbWWQTJoCk"
      },
      "source": [
        " ## Exercise: Exploration parameter sensitivity.\n",
        "\n",
        "The parameter $\\varepsilon$ is said to control the amount of exploration the learning system experiences. In this context, $\\varepsilon$ specifically controls the probability of taking an action uniformly at random. \n",
        "\n",
        "In this exercise, we would like to tune the exploration parameter to acheive better learning performance. Choose an aggregate performance metric, such as the average number of steps to the goal, then evaluate the metric for several different values of $\\varepsilon$, e.g. $\\varepsilon \\in \\{0, 0.1, 0.2, 0.3, \\cdots, 1\\}$. What value of $\\varepsilon$ achieved the best aggregate performance? Construct a sensitivy curve by plotting $\\varepsilon$ versus aggregate performance. Comment on the profile of the curve; explain the behavior at the extreme values. Do you believe that further improvements would be possible with a different evaluation? "
      ]
    },
    {
      "cell_type": "code",
      "source": [
        "#@title Exercise\n",
        "\n",
        "# YOUR CODE GOES HERE.\n",
        "\n",
        "\n",
        "rs = np.random.RandomState(0)\n",
        "epsilon = np.linspace(0,1,11)\n",
        "auc = []\n",
        "\n",
        "for ep in epsilon:\n",
        "  steps = []\n",
        "  ep_steps = 0.\n",
        "  env = GridWorld()\n",
        "  last_x_w = env.reset()\n",
        "  agent = QLearning(first_x_w=last_x_w, num_actions=env.num_actions)\n",
        "  for t in range(1000):\n",
        "    last_action = epsilon_greedy(agent.w_q, last_x_w, rs, ep)\n",
        "    x_w, reward, done = env.step(last_action) \n",
        "    agent.update(last_x_w, last_action, reward, x_w, done)\n",
        "\n",
        "    ep_steps += 1\n",
        "    if done:\n",
        "      last_x_w = env.reset()\n",
        "      steps.append(ep_steps)\n",
        "      ep_steps = 0.\n",
        "    else:\n",
        "      last_x_w = x_w\n",
        "  auc.append(np.mean(np.array(steps)))\n",
        "\n",
        "plt.plot(epsilon,auc)"
      ],
      "metadata": {
        "id": "T7V8kgU5VRBX"
      },
      "execution_count": null,
      "outputs": []
    },
    {
      "cell_type": "markdown",
      "metadata": {
        "id": "NzBuIebpSlfu"
      },
      "source": [
        " ## Exercise: Step-size sensitivity.\n",
        "The stepsize $\\alpha$ controls the size of the learning system's corrections. This can have a significant effect on the system's overall adaptibility: its rate of learning and its longterm stability. \n",
        "\n",
        "In this exercise we would like you to fix the exploration parameter to $\\varepsilon =0.1$ and repeat the previous sensitivity analysis for the step size. Using the step size in place of the exploration parameter, use the same aggregate performance metric to evaluate several different values of $\\alpha$. For example, make sure your evaluation range captures the extreme cases of $\\alpha=0$ and $\\alpha=1$, e.g. $\\alpha\\in\\{0,10^{-3}, 10^{-2}, 10^{-1}, 1\\}$. Which value of $\\alpha$ demonstrated the highest aggregate performance? \n"
      ]
    },
    {
      "cell_type": "code",
      "source": [
        "#@title Exercise\n",
        "env = GridWorld()\n",
        "# YOUR CODE GOES HERE.\n",
        "rs = np.random.RandomState(0)\n",
        "alphas = [ 0, 10e-3,10e-2,10e-1,1]\n",
        "auc = []\n",
        "\n",
        "for alpha in alphas:\n",
        "  steps = []\n",
        "  ep_steps = 0.\n",
        "  \n",
        "  last_x_w = env.reset()\n",
        "  agent = QLearning(first_x_w=last_x_w, num_actions=env.num_actions, alpha_w=alpha)\n",
        "  for t in range(1000):\n",
        "    last_action = epsilon_greedy(agent.w_q, last_x_w, rs, ep)\n",
        "    x_w, reward, done = env.step(last_action) \n",
        "    agent.update(last_x_w, last_action, reward, x_w, done)\n",
        "\n",
        "    ep_steps += 1\n",
        "    if done:\n",
        "      last_x_w = env.reset()\n",
        "      steps.append(ep_steps)\n",
        "      ep_steps = 0.\n",
        "    else:\n",
        "      last_x_w = x_w\n",
        "  auc.append(np.mean(np.array((steps))))\n",
        "\n",
        "plt.plot(alphas,auc)"
      ],
      "metadata": {
        "id": "8sKhdU6DWvTe"
      },
      "execution_count": null,
      "outputs": []
    },
    {
      "cell_type": "markdown",
      "metadata": {
        "id": "Awy4bnFfSGf_"
      },
      "source": [
        "## Exercise: Stochastic transitions.\n",
        "The previous exercises took place in a deterministic environment. In reality, most environments are stochastic, and these are also some of the most interesting application domains of RL.\n",
        "\n",
        "Point out the differences from the previously studeied phenomena. This should have been observed in your results from the previous two exercises. Repeat the above analysis for the stochastic domain. How did the results change?\n",
        "\n",
        "Now that the domain is stochastic, it does not suffice to look at the performance of just a single trial. Run 30 trials with different seeds and plot the average performance as well as the standard error confidence intervals."
      ]
    },
    {
      "cell_type": "code",
      "source": [
        "#@title Exercise\n",
        "\n",
        "# YOUR CODE GOES HERE.\n",
        "env = GridWorld(stochastic=True)\n",
        "# YOUR CODE GOES HERE.\n",
        "seeds = np.arange(20)\n",
        "\n",
        "\n",
        "trial_steps = []\n",
        "\n",
        "for seed in seeds:\n",
        "  steps = []\n",
        "  ep_steps = 0.\n",
        "  rs = np.random.RandomState(seed)\n",
        "  \n",
        "  last_x_w = env.reset()\n",
        "  agent = QLearning(first_x_w=last_x_w, num_actions=env.num_actions)\n",
        "  for t in range(30):\n",
        "    while True:\n",
        "      last_action = epsilon_greedy(agent.w_q, last_x_w, rs)\n",
        "      x_w, reward, done = env.step(last_action) \n",
        "      agent.update(last_x_w, last_action, reward, x_w, done)\n",
        "\n",
        "      ep_steps += 1\n",
        "      if done:\n",
        "        last_x_w = env.reset()\n",
        "        steps.append(ep_steps)\n",
        "        ep_steps = 0.\n",
        "        break\n",
        "      else:\n",
        "        last_x_w = x_w\n",
        "  trial_steps.append(steps)\n",
        "\n"
      ],
      "metadata": {
        "id": "uShYtuvMWxS3"
      },
      "execution_count": null,
      "outputs": []
    },
    {
      "cell_type": "markdown",
      "source": [
        "Use the code below to plot learning performance."
      ],
      "metadata": {
        "id": "RA0DyoUsW6ON"
      }
    },
    {
      "cell_type": "code",
      "metadata": {
        "id": "lY2YGEe6JbBm"
      },
      "source": [
        "def mean_confidence_interval(data):\n",
        "    import scipy as sp \n",
        "    \"\"\"Compute confidence interval from sample data.\"\"\"\n",
        "    num_samp = len(data)\n",
        "    mean = np.array(np.mean(data, axis=0))\n",
        "    se = sp.stats.sem(data, axis=0)\n",
        "    return mean, se"
      ],
      "execution_count": null,
      "outputs": []
    },
    {
      "cell_type": "code",
      "metadata": {
        "id": "u0nfng0GIwja"
      },
      "source": [
        "data = np.array(trial_steps)\n",
        "print(data.shape)\n",
        "mean_steps, se = mean_confidence_interval(data)\n",
        "plt.errorbar(np.arange(len(mean_steps)), mean_steps, yerr=se)"
      ],
      "execution_count": null,
      "outputs": []
    },
    {
      "cell_type": "code",
      "metadata": {
        "id": "rpdNkFd-hG-w"
      },
      "source": [
        "fig, ax = plt.subplots(figsize=(10,5))\n",
        "ax.plot(np.arange(len(steps)), steps, label='Q-Learning')\n",
        "ax.hlines(y=8, xmin=0, xmax=len(steps), label='Shortest path')\n",
        "ax.set_xlabel('Episode')\n",
        "ax.set_ylabel('Steps to Goal')\n",
        "ax.legend()"
      ],
      "execution_count": null,
      "outputs": []
    },
    {
      "cell_type": "markdown",
      "source": [
        "# Part 4. Continuous control with PPO.\n",
        "\n",
        "This next part with guide you through a control problem using the PPO algorithm from the [Stable Baselines repository](https://github.com/hill-a/stable-baselines). \n",
        "\n",
        "The code is adapted from the [Stable Baselines tutorial](https://colab.research.google.com/github/Stable-Baselines-Team/rl-colab-notebooks/blob/master/stable_baselines_getting_started.ipynb)."
      ],
      "metadata": {
        "id": "ut1nYK60rcjG"
      }
    },
    {
      "cell_type": "markdown",
      "metadata": {
        "id": "-S-rFGcQmSlE"
      },
      "source": [
        "\n",
        "## Introduction\n",
        "\n",
        "In this notebook, you will learn how to create a RL model, train it and evaluate it.\n",
        "\n",
        "\n",
        "## Install Dependencies and Stable Baselines Using Pip\n",
        "\n",
        "List of full dependencies can be found in the [README](https://github.com/hill-a/stable-baselines).\n",
        "\n",
        "```\n",
        "sudo apt-get update && sudo apt-get install cmake libopenmpi-dev zlib1g-dev\n",
        "```\n",
        "\n",
        "\n",
        "```\n",
        "pip install stable-baselines[mpi]\n",
        "```"
      ]
    },
    {
      "cell_type": "code",
      "execution_count": null,
      "metadata": {
        "id": "gWskDE2c9WoN"
      },
      "outputs": [],
      "source": [
        "# Stable Baselines only supports tensorflow 1.x for now\n",
        "%tensorflow_version 1.x\n",
        "!apt-get install ffmpeg freeglut3-dev xvfb  # For visualization\n",
        "!pip install stable-baselines[mpi]==2.10.2\n",
        "from IPython.display import clear_output\n",
        "clear_output()"
      ]
    },
    {
      "cell_type": "code",
      "execution_count": null,
      "metadata": {
        "id": "U29X1-B-AIKE"
      },
      "outputs": [],
      "source": [
        "import stable_baselines\n",
        "stable_baselines.__version__"
      ]
    },
    {
      "cell_type": "markdown",
      "metadata": {
        "id": "gcX8hEcaUpR0"
      },
      "source": [
        "Stable-Baselines works on environments that follow the [gym interface](https://stable-baselines.readthedocs.io/en/master/guide/custom_env.html).\n",
        "You can find a list of available environments [here](https://gym.openai.com/envs/#classic_control).\n",
        "\n",
        "It is also recommended to check the [source code](https://github.com/openai/gym) to learn more about the observation and action space of each env, as gym does not have a proper documentation.\n",
        "Not all algorithms can work with all action spaces, you can find more in this [recap table](https://stable-baselines.readthedocs.io/en/master/guide/algos.html)."
      ]
    },
    {
      "cell_type": "markdown",
      "metadata": {
        "id": "FtY8FhliLsGm"
      },
      "source": [
        "## Imports"
      ]
    },
    {
      "cell_type": "code",
      "execution_count": null,
      "metadata": {
        "id": "BIedd7Pz9sOs"
      },
      "outputs": [],
      "source": [
        "import gym\n",
        "import numpy as np\n",
        "from stable_baselines import PPO2"
      ]
    },
    {
      "cell_type": "markdown",
      "metadata": {
        "id": "-0_8OQbOTTNT"
      },
      "source": [
        "You need to import the policy class that will be used to create the networks (for the policy/value functions).\n",
        "This step is optional as you can directly use strings in the constructor: \n",
        "\n",
        "```PPO2('MlpPolicy', env)``` instead of ```PPO2(MlpPolicy, env)```\n",
        "\n",
        "Note that some algorithms like `SAC` have their own `MlpPolicy` (different from `stable_baselines.common.policies.MlPolicy`), that's why using string for the policy is the recommened option."
      ]
    },
    {
      "cell_type": "code",
      "execution_count": null,
      "metadata": {
        "id": "ROUJr675TT01"
      },
      "outputs": [],
      "source": [
        "from stable_baselines.common.policies import MlpPolicy"
      ]
    },
    {
      "cell_type": "markdown",
      "metadata": {
        "id": "RapkYvTXL7Cd"
      },
      "source": [
        "## Create the Gym env and instantiate the agent\n",
        "\n",
        "For this example, we will use CartPole environment, a classic control problem.\n",
        "\n",
        "> A pole is attached by an un-actuated joint to a cart, which moves along a frictionless track. The system is controlled by applying a force of +1 or -1 to the cart. The pendulum starts upright, and the goal is to prevent it from falling over. A reward of +1 is provided for every timestep that the pole remains upright.\n",
        "\n",
        "Cartpole environment: [https://gym.openai.com/envs/CartPole-v1/](https://gym.openai.com/envs/CartPole-v1/)\n",
        "\n",
        "![Cartpole](https://cdn-images-1.medium.com/max/1143/1*h4WTQNVIsvMXJTCpXm_TAw.gif)\n",
        "\n",
        "Note: vectorized environments allow to easily multiprocess training. In this example, we are using only one process, hence the `DummyVecEnv`.\n",
        "\n",
        "We chose the `MlpPolicy` because input of `CartPole` is a feature vector, not images.\n",
        "\n",
        "The type of action to use (discrete/continuous) will be automatically deduced from the environment action space\n",
        "\n",
        "\n",
        "Here we are using the [Proximal Policy Optimization](https://stable-baselines.readthedocs.io/en/master/modules/ppo2.html) algorithm (PPO2 is the version optimized for GPU), which is an Actor-Critic method: it uses a value function to improve the policy gradient descent (by reducing the variance).\n",
        "\n",
        "It combines ideas from [A2C](https://stable-baselines.readthedocs.io/en/master/modules/a2c.html) (having multiple workers and using an entropy bonus for exploration) and [TRPO](https://stable-baselines.readthedocs.io/en/master/modules/trpo.html) (it uses a trust region to improve stability and avoid catastrophic drops in performance).\n",
        "\n",
        "PPO is an on-policy algorithm, which means that the trajectories used to update the networks must be collected using the latest policy.\n",
        "It is usually less sample efficient than off-policy alorithms like [DQN](https://stable-baselines.readthedocs.io/en/master/modules/dqn.html), [SAC](https://stable-baselines.readthedocs.io/en/master/modules/sac.html) or [TD3](https://stable-baselines.readthedocs.io/en/master/modules/td3.html), but is much faster regarding wall-clock time.\n"
      ]
    },
    {
      "cell_type": "markdown",
      "metadata": {
        "id": "ZWOAFJjumSlL"
      },
      "source": [
        "## Exercise: Sweeps of architecture size and step size.\n",
        "\n",
        "> `verbose=1` prints the output as the model learns\n",
        "\n",
        "> `learning_rate`: (float or callable) The step size, it can be a function. See\n",
        "https://github.com/hill-a/stable-baselines/blob/master/stable_baselines/ppo2/ppo2.py\n",
        "for further details.\n",
        "\n",
        "> `net_arch`: parameter allows to specify the amount and size of the hidden layers \n",
        "and how many of them are shared between the policy network and the value \n",
        "network. See \n",
        "https://github.com/hill-a/stable-baselines/blob/master/stable_baselines/common/policies.py\n",
        "for further details. \n",
        "\n",
        "**Adjust the step size and architecture** and observe the differences in learning performance."
      ]
    },
    {
      "cell_type": "code",
      "execution_count": null,
      "metadata": {
        "id": "pUWGZp3i9wyf"
      },
      "outputs": [],
      "source": [
        "env = gym.make('CartPole-v1')\n",
        "\n",
        "# vectorized environments allow to easily multiprocess training\n",
        "# we demonstrate its usefulness in the next examples\n",
        "# env = DummyVecEnv([lambda: env])\n",
        "\n",
        "# model = PPO2(MlpPolicy, env, verbose=0)\n",
        "model = PPO2(MlpPolicy, env, verbose=0, \n",
        "             learning_rate=2.5e-4,\n",
        "             policy_kwargs=dict(net_arch=[64, 64]))\n",
        "# clear_output()"
      ]
    },
    {
      "cell_type": "code",
      "execution_count": null,
      "metadata": {
        "id": "b20zH8BSvxnN"
      },
      "outputs": [],
      "source": [
        "print(env)"
      ]
    },
    {
      "cell_type": "markdown",
      "metadata": {
        "id": "4efFdrQ7MBvl"
      },
      "source": [
        "We create a helper function to evaluate the agent:"
      ]
    },
    {
      "cell_type": "code",
      "execution_count": null,
      "metadata": {
        "id": "63M8mSKR-6Zt"
      },
      "outputs": [],
      "source": [
        "def evaluate(model, num_episodes=100):\n",
        "    \"\"\"\n",
        "    Evaluate a RL agent\n",
        "    :param model: (BaseRLModel object) the RL Agent\n",
        "    :param num_episodes: (int) number of episodes to evaluate it\n",
        "    :return: (float) Mean reward for the last num_episodes\n",
        "    \"\"\"\n",
        "    # This function will only work for a single Environment\n",
        "    env = model.get_env()\n",
        "    all_episode_rewards = []\n",
        "    for i in range(num_episodes):\n",
        "        episode_rewards = []\n",
        "        done = False\n",
        "        obs = env.reset()\n",
        "        while not done:\n",
        "            # _states are only useful when using LSTM policies\n",
        "            action, _states = model.predict(obs)\n",
        "            # here, action, rewards and dones are arrays\n",
        "            # because we are using vectorized env\n",
        "            obs, reward, done, info = env.step(action)\n",
        "            episode_rewards.append(reward)\n",
        "\n",
        "        all_episode_rewards.append(sum(episode_rewards))\n",
        "\n",
        "    mean_episode_reward = np.mean(all_episode_rewards)\n",
        "    print(\"Mean reward:\", mean_episode_reward, \"Num episodes:\", num_episodes)\n",
        "\n",
        "    return mean_episode_reward"
      ]
    },
    {
      "cell_type": "markdown",
      "metadata": {
        "id": "6hkyafs--gJz"
      },
      "source": [
        "In fact, Stable-Baselines already provides you with that helper:"
      ]
    },
    {
      "cell_type": "code",
      "execution_count": null,
      "metadata": {
        "id": "s6ZNldIR-fce"
      },
      "outputs": [],
      "source": [
        "from stable_baselines.common.evaluation import evaluate_policy"
      ]
    },
    {
      "cell_type": "markdown",
      "metadata": {
        "id": "zjEVOIY8NVeK"
      },
      "source": [
        "Let's evaluate the un-trained agent, this should be a random agent."
      ]
    },
    {
      "cell_type": "code",
      "execution_count": null,
      "metadata": {
        "id": "xDHLMA6NFk95"
      },
      "outputs": [],
      "source": [
        "# Use a separate environment for evaluation\n",
        "eval_env = gym.make('CartPole-v1')\n",
        "\n",
        "# Random Agent, before training\n",
        "mean_reward, std_reward = evaluate_policy(model, eval_env, n_eval_episodes=100)\n",
        "\n",
        "print(f\"mean_reward:{mean_reward:.2f} +/- {std_reward:.2f}\")"
      ]
    },
    {
      "cell_type": "markdown",
      "metadata": {
        "id": "r5UoXTZPNdFE"
      },
      "source": [
        "## Train the agent and evaluate it"
      ]
    },
    {
      "cell_type": "code",
      "execution_count": null,
      "metadata": {
        "id": "e4cfSXIB-pTF"
      },
      "outputs": [],
      "source": [
        "# Train the agent for 10000 steps\n",
        "model.learn(total_timesteps=10000)"
      ]
    },
    {
      "cell_type": "code",
      "execution_count": null,
      "metadata": {
        "id": "ygl_gVmV_QP7"
      },
      "outputs": [],
      "source": [
        "# Evaluate the trained agent\n",
        "mean_reward, std_reward = evaluate_policy(model, eval_env, n_eval_episodes=100)\n",
        "\n",
        "print(f\"mean_reward:{mean_reward:.2f} +/- {std_reward:.2f}\")"
      ]
    },
    {
      "cell_type": "markdown",
      "metadata": {
        "id": "QuvQYCOMmSlQ"
      },
      "source": [
        "The `mean_reward` above is quite low for this task. Your challenge in this exercise is:"
      ]
    },
    {
      "cell_type": "markdown",
      "metadata": {
        "id": "A00W6yY3NkHG"
      },
      "source": [
        "## Exercise: Try and adjust the parameters above to get the highest possible mean reward.\n",
        "* What parameter combinations worked well?\n",
        "* What does the performance do as you keep changing a parameter in one direction? For example, try running with:\n",
        "`learning_rate: 1e-6, 1e-5, 1e-4, 3e-4, 1e-3, 3e-3, 1e-2, 3e-2, 1e-1`.\n",
        "* Try changing the `arch` to be more/less powerful. How does this impact performance? Does it saturate? You can try using the colab magic `%%timeit` to see the impact on training speed."
      ]
    },
    {
      "cell_type": "markdown",
      "metadata": {
        "id": "vUpOhTaImSlR"
      },
      "source": [
        "## `STOP HERE` \n",
        "If, after the session, you want to try and visualise the models, you can try and run the code below."
      ]
    },
    {
      "cell_type": "markdown",
      "metadata": {
        "id": "xVm9QPNVwKXN"
      },
      "source": [
        "## Prepare video recording\n",
        "\n",
        "**Note:** This will _NOT_ work on a Google Colaboratory. If you run this locally, you can try and get this working. "
      ]
    },
    {
      "cell_type": "code",
      "execution_count": null,
      "metadata": {
        "id": "MPyfQxD5z26J"
      },
      "outputs": [],
      "source": [
        "# Set up fake display; otherwise rendering will fail\n",
        "import os\n",
        "os.system(\"Xvfb :1 -screen 0 1024x768x24 &\")\n",
        "os.environ['DISPLAY'] = ':1'"
      ]
    },
    {
      "cell_type": "code",
      "execution_count": null,
      "metadata": {
        "id": "SLzXxO8VMD6N"
      },
      "outputs": [],
      "source": [
        "import base64\n",
        "from pathlib import Path\n",
        "\n",
        "from IPython import display as ipythondisplay\n",
        "\n",
        "def show_videos(video_path='', prefix=''):\n",
        "  \"\"\"\n",
        "  Taken from https://github.com/eleurent/highway-env\n",
        "\n",
        "  :param video_path: (str) Path to the folder containing videos\n",
        "  :param prefix: (str) Filter the video, showing only the only starting with this prefix\n",
        "  \"\"\"\n",
        "  html = []\n",
        "  for mp4 in Path(video_path).glob(\"{}*.mp4\".format(prefix)):\n",
        "      video_b64 = base64.b64encode(mp4.read_bytes())\n",
        "      html.append('''<video alt=\"{}\" autoplay \n",
        "                    loop controls style=\"height: 400px;\">\n",
        "                    <source src=\"data:video/mp4;base64,{}\" type=\"video/mp4\" />\n",
        "                </video>'''.format(mp4, video_b64.decode('ascii')))\n",
        "  ipythondisplay.display(ipythondisplay.HTML(data=\"<br>\".join(html)))"
      ]
    },
    {
      "cell_type": "markdown",
      "metadata": {
        "id": "LTRNUfulOGaF"
      },
      "source": [
        "We will record a video using the [VecVideoRecorder](https://stable-baselines.readthedocs.io/en/master/guide/vec_envs.html#vecvideorecorder) wrapper."
      ]
    },
    {
      "cell_type": "code",
      "execution_count": null,
      "metadata": {
        "id": "Trag9dQpOIhx"
      },
      "outputs": [],
      "source": [
        "from stable_baselines.common.vec_env import VecVideoRecorder, DummyVecEnv\n",
        "\n",
        "def record_video(env_id, model, video_length=500, prefix='', video_folder='videos/'):\n",
        "  \"\"\"\n",
        "  :param env_id: (str)\n",
        "  :param model: (RL model)\n",
        "  :param video_length: (int)\n",
        "  :param prefix: (str)\n",
        "  :param video_folder: (str)\n",
        "  \"\"\"\n",
        "  eval_env = DummyVecEnv([lambda: gym.make('CartPole-v1')])\n",
        "  # Start the video at step=0 and record 500 steps\n",
        "  eval_env = VecVideoRecorder(eval_env, video_folder=video_folder,\n",
        "                              record_video_trigger=lambda step: step == 0, video_length=video_length,\n",
        "                              name_prefix=prefix)\n",
        "\n",
        "  obs = eval_env.reset()\n",
        "  for _ in range(video_length):\n",
        "    action, _ = model.predict(obs)\n",
        "    obs, _, _, _ = eval_env.step(action)\n",
        "\n",
        "  # Close the video recorder\n",
        "  eval_env.close()"
      ]
    },
    {
      "cell_type": "markdown",
      "metadata": {
        "id": "KOObbeu5MMlR"
      },
      "source": [
        "### Visualize trained agent\n",
        "\n"
      ]
    },
    {
      "cell_type": "code",
      "execution_count": null,
      "metadata": {
        "id": "iATu7AiyMQW2"
      },
      "outputs": [],
      "source": [
        "record_video('CartPole-v1', model, video_length=500, prefix='ppo2-cartpole')"
      ]
    },
    {
      "cell_type": "code",
      "execution_count": null,
      "metadata": {
        "id": "-n4i-fW3NojZ"
      },
      "outputs": [],
      "source": [
        "show_videos('videos', prefix='ppo2')"
      ]
    },
    {
      "cell_type": "markdown",
      "metadata": {
        "id": "8wR_X8o3HbNB"
      },
      "source": [
        "# Want to learn more?\n",
        "\n",
        "Many of these references were originally compiled by Feryal Behbahani and Gheorghe Comanici [[here](https://colab.research.google.com/github/eemlcommunity/PracticalSessions2020/blob/master/rl/EEML2020_RL_Tutorial.ipynb#scrollTo=XWqlIWbwN7Mk)].\n",
        "\n",
        "Books and lecture notes\n",
        "*   [Reinforcement Learning: an Introduction by Sutton & Barto](http://incompleteideas.net/book/RLbook2018.pdf)\n",
        "* [Algorithms for Reinforcement Learning by Csaba Szepesvari](https://sites.ualberta.ca/~szepesva/papers/RLAlgsInMDPs.pdf)\n",
        "\n",
        "Lectures and course \n",
        "*   [Reinforcement learning course at UCL by David Silver](https://www.youtube.com/playlist?list=PLzuuYNsE1EZAXYR4FJ75jcJseBmo4KQ9-)\n",
        "*   [Reinforcement learning course by UCL & DeepMind](https://www.youtube.com/playlist?list=PLqYmG7hTraZBKeNJ-JE_eyJHZ7XgBoAyb)\n",
        "*   [Reinforcement learning course at Stanford by Emma Brunskill](https://www.youtube.com/playlist?list=PLoROMvodv4rOSOPzutgyCTapiGlY2Nd8u)\n",
        "*   [Reinforcement learning course on U Alberta Coursera by Martha White & Adam White](https://www.coursera.org/specializations/reinforcement-learning)\n",
        "*   [Reinforcement learning lecture at NPTEL by Balaraman Ravindran](https://youtu.be/YaPSPu7K9S0)\n",
        "\n",
        "More practical:\n",
        "* [Spinning Up in Deep RL by Josh Achiam](https://spinningup.openai.com/en/latest/)\n",
        "* [An interactive tutorial on TD learning by Andrej Karpathy](https://cs.stanford.edu/people/karpathy/reinforcejs/gridworld_td.html)\n",
        "\n",
        "\n"
      ]
    }
  ]
}